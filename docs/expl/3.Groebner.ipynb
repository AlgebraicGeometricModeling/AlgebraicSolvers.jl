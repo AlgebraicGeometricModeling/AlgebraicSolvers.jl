{
 "cells": [
  {
   "cell_type": "markdown",
   "metadata": {
    "slideshow": {
     "slide_type": "slide"
    }
   },
   "source": [
    "# Solving using Groebner basis computation\n",
    "\n",
    "\n",
    "We load the needed packages, define the ring of polynomials we will need, and the polynomial system we will solve:"
   ]
  },
  {
   "cell_type": "code",
   "execution_count": 1,
   "metadata": {
    "slideshow": {
     "slide_type": "slide"
    }
   },
   "outputs": [
    {
     "data": {
      "text/plain": [
       "4-element Vector{AbstractAlgebra.Generic.MPoly{Rational{BigInt}}}:\n",
       " 3*x^3*z + 8*x^2*y^2 + x^2*y*z + 5*x*y^3\n",
       " x^5 + 13*y^2*z^3 + 2*y^2*z^2 + 5*y*z^4\n",
       " 8*x^3 + x*z^2 + 12*y^3 + 3\n",
       " 7*x^2*y^4 + 18*x*y^3*z^2 + y^3*z^3"
      ]
     },
     "execution_count": 1,
     "metadata": {},
     "output_type": "execute_result"
    }
   ],
   "source": [
    "using AbstractAlgebra, Groebner, AlgebraicSolvers\n",
    "\n",
    "R, (x,y,z) = QQ[\"x\",\"y\",\"z\"]\n",
    "\n",
    "\n",
    "P = [\n",
    "    8*x^2*y^2+5*x*y^3+3*x^3*z+x^2*y*z,\n",
    "    x^5+2*y^2*z^2+13*y^2*z^3+5*y*z^4,\n",
    "    8*x^3+12*y^3+x*z^2+3,\n",
    "    7*x^2*y^4+18*x*y^3*z^2+y^3*z^3\n",
    "    ]"
   ]
  },
  {
   "cell_type": "markdown",
   "metadata": {
    "slideshow": {
     "slide_type": "subslide"
    }
   },
   "source": [
    "We solve the system `P` using the Groebner solver:"
   ]
  },
  {
   "cell_type": "code",
   "execution_count": 2,
   "metadata": {
    "slideshow": {
     "slide_type": "slide"
    }
   },
   "outputs": [],
   "source": [
    "Xi, G, B = solve_groebner(P);"
   ]
  },
  {
   "cell_type": "markdown",
   "metadata": {},
   "source": [
    "and we get 6 solutions (the columns of `Xi`):"
   ]
  },
  {
   "cell_type": "code",
   "execution_count": 3,
   "metadata": {},
   "outputs": [
    {
     "data": {
      "text/plain": [
       "3×6 Matrix{ComplexF64}:\n",
       "       0.0+0.0im          …           0.0+0.0im\n",
       " -0.629961-1.664e-31im            0.31498+0.545562im\n",
       "       0.0+4.22682e-10im     -1.18437e-10-1.9944e-10im"
      ]
     },
     "execution_count": 3,
     "metadata": {},
     "output_type": "execute_result"
    }
   ],
   "source": [
    "Xi"
   ]
  },
  {
   "cell_type": "markdown",
   "metadata": {},
   "source": [
    "### How does it work ?\n",
    "\n",
    "First we compute the Groebner basis of `P` (for the degree reverse lexicographic ordering):"
   ]
  },
  {
   "cell_type": "code",
   "execution_count": 4,
   "metadata": {},
   "outputs": [
    {
     "data": {
      "text/plain": [
       "3-element Vector{AbstractAlgebra.Generic.MPoly{Rational{BigInt}}}:\n",
       " z^2\n",
       " y^3 + 1//4\n",
       " x"
      ]
     },
     "execution_count": 4,
     "metadata": {},
     "output_type": "execute_result"
    }
   ],
   "source": [
    "G = groebner(P)"
   ]
  },
  {
   "cell_type": "markdown",
   "metadata": {},
   "source": [
    "Then we deduce the basis of quotient by the ideal $(P)$:"
   ]
  },
  {
   "cell_type": "code",
   "execution_count": 5,
   "metadata": {},
   "outputs": [
    {
     "data": {
      "text/plain": [
       "6-element Vector{AbstractAlgebra.Generic.MPoly{Rational{BigInt}}}:\n",
       " 1\n",
       " z\n",
       " y\n",
       " y*z\n",
       " y^2\n",
       " y^2*z"
      ]
     },
     "execution_count": 5,
     "metadata": {},
     "output_type": "execute_result"
    }
   ],
   "source": [
    "B, BIdx = quotient_basis(G); B"
   ]
  },
  {
   "cell_type": "markdown",
   "metadata": {},
   "source": [
    "(Here `Bidx` is a dictionary of monomials giving their index in the basis `B`).\n",
    "\n",
    "Then we compute the matrices of multiplication by the variables in the basis `B`of the quotient:"
   ]
  },
  {
   "cell_type": "code",
   "execution_count": 6,
   "metadata": {},
   "outputs": [
    {
     "data": {
      "text/plain": [
       "3-element Vector{Matrix{Rational{BigInt}}}:\n",
       " [0//1 0//1 … 0//1 0//1; 0//1 0//1 … 0//1 0//1; … ; 0//1 0//1 … 0//1 0//1; 0//1 0//1 … 0//1 0//1]\n",
       " [0//1 0//1 … -1//4 0//1; 0//1 0//1 … 0//1 -1//4; … ; 0//1 0//1 … 0//1 0//1; 0//1 0//1 … 0//1 0//1]\n",
       " [0//1 0//1 … 0//1 0//1; 1//1 0//1 … 0//1 0//1; … ; 0//1 0//1 … 0//1 0//1; 0//1 0//1 … 1//1 0//1]"
      ]
     },
     "execution_count": 6,
     "metadata": {},
     "output_type": "execute_result"
    }
   ],
   "source": [
    "M = [mult_matrix(v, G, B) for v in [x,y,z]]"
   ]
  },
  {
   "cell_type": "markdown",
   "metadata": {},
   "source": [
    "Then we triangularise them jointly in the same basis and deduce the points `Xi`from the values on the diagonal of triangularised $M_i$.\n",
    "\n",
    "For that purpose, we compute the Schur factorization of a random combination of the matrices.   \n",
    "\n",
    "This gives us the points (possibly repeated with their multiplicity):"
   ]
  },
  {
   "cell_type": "code",
   "execution_count": 7,
   "metadata": {},
   "outputs": [
    {
     "data": {
      "text/plain": [
       "3×6 Matrix{ComplexF64}:\n",
       "       0.0+0.0im          …           0.0+0.0im\n",
       " -0.629961-1.664e-31im            0.31498+0.545562im\n",
       "       0.0+4.22682e-10im     -1.18437e-10-1.9944e-10im"
      ]
     },
     "execution_count": 7,
     "metadata": {},
     "output_type": "execute_result"
    }
   ],
   "source": [
    "Xi"
   ]
  }
 ],
 "metadata": {
  "@webio": {
   "lastCommId": null,
   "lastKernelId": null
  },
  "anaconda-cloud": {},
  "celltoolbar": "Slideshow",
  "kernelspec": {
   "display_name": "Julia 1.9.3",
   "language": "julia",
   "name": "julia-1.9"
  },
  "language_info": {
   "file_extension": ".jl",
   "mimetype": "application/julia",
   "name": "julia",
   "version": "1.9.3"
  }
 },
 "nbformat": 4,
 "nbformat_minor": 4
}
